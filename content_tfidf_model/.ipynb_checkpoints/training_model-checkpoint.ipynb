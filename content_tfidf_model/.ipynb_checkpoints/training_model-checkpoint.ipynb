{
 "cells": [
  {
   "cell_type": "markdown",
   "metadata": {},
   "source": [
    "- Import Packages"
   ]
  },
  {
   "cell_type": "code",
   "execution_count": 2,
   "metadata": {
    "collapsed": true
   },
   "outputs": [],
   "source": [
    "import os\n",
    "import random\n",
    "import math\n",
    "import json"
   ]
  },
  {
   "cell_type": "markdown",
   "metadata": {},
   "source": [
    "- Take out \"class\" and \"content_cut\""
   ]
  },
  {
   "cell_type": "code",
   "execution_count": 60,
   "metadata": {
    "collapsed": false
   },
   "outputs": [
    {
     "name": "stdout",
     "output_type": "stream",
     "text": [
      "arts.txt\n",
      "business.txt\n",
      "charity.txt\n",
      "education.txt\n",
      "entertainment.txt\n",
      "fashion.txt\n",
      "food.txt\n",
      "health.txt\n",
      "other.txt\n",
      "photography.txt\n",
      "sports.txt\n",
      "technology.txt\n",
      "travel.txt\n"
     ]
    }
   ],
   "source": [
    "for i,j,k in os.walk('../event_content_cut_json'):\n",
    "    file_names = k\n",
    "\n",
    "events = []\n",
    "for file_name in file_names:\n",
    "    class_name = file_name[:-4]\n",
    "    print(file_name)\n",
    "    for line in open('../event_content_cut_json/'+file_name,'r').readlines():\n",
    "        event = {}        \n",
    "        keywords = line[16:-4].split(',')\n",
    "        event['class'] = class_name\n",
    "        event['content_cut'] = keywords\n",
    "        events.append(event)\n",
    "json.dump(events,open('events.json','w'))"
   ]
  },
  {
   "cell_type": "markdown",
   "metadata": {},
   "source": [
    "- Sampling"
   ]
  },
  {
   "cell_type": "code",
   "execution_count": 61,
   "metadata": {
    "collapsed": true
   },
   "outputs": [],
   "source": [
    "events = json.load(open('events.json','r'))\n",
    "all_data_index = [i for i in range(40509)]\n",
    "training_data_index = random.sample(all_data_index,32407) \n",
    "testing_data_index = list(set(all_data_index)-set(training_data_index))\n",
    "\n",
    "training_data = []\n",
    "for index in training_data_index:\n",
    "    training_data.append(events[index])\n",
    "testing_data = []\n",
    "for index in testing_data_index:\n",
    "    testing_data.append(events[index])\n",
    "json.dump(training_data,open('training_data.json','w'))\n",
    "json.dump(testing_data,open('testing_data.json','w'))"
   ]
  },
  {
   "cell_type": "markdown",
   "metadata": {},
   "source": [
    "- Merge \"content_cut\" for each class"
   ]
  },
  {
   "cell_type": "code",
   "execution_count": 62,
   "metadata": {
    "collapsed": true
   },
   "outputs": [],
   "source": [
    "training_data = json.load(open('training_data.json','r'))\n",
    "testing_data = json.load(open('testing_data.json','r'))\n",
    "\n",
    "class_content_dict = {\"arts\":[],\n",
    "                      \"business\":[],\n",
    "                      \"charity\":[],\n",
    "                      \"education\":[],\n",
    "                      \"entertainment\":[],\n",
    "                      \"fashion\":[],\n",
    "                      \"food\":[],\n",
    "                      \"health\":[],\n",
    "                      \"other\":[],\n",
    "                      \"photography\":[],\n",
    "                      \"sports\":[],\n",
    "                      \"technology\":[],\n",
    "                      \"travel\":[]}\n",
    "for data in training_data:\n",
    "    class_content_dict[data['class']].extend(data['content_cut'])\n",
    "\n",
    "\n",
    "json.dump(class_content_dict,open('class_content_dict.json','w'))"
   ]
  },
  {
   "cell_type": "markdown",
   "metadata": {},
   "source": [
    "- Remove numbers and alphabets"
   ]
  },
  {
   "cell_type": "code",
   "execution_count": 4,
   "metadata": {
    "collapsed": false
   },
   "outputs": [],
   "source": [
    "class_content_dict = json.load(open('class_content_dict.json','r'))\n",
    "\n",
    "class_content_dict_2 = {\"arts\":[],\n",
    "                      \"business\":[],\n",
    "                      \"charity\":[],\n",
    "                      \"education\":[],\n",
    "                      \"entertainment\":[],\n",
    "                      \"fashion\":[],\n",
    "                      \"food\":[],\n",
    "                      \"health\":[],\n",
    "                      \"other\":[],\n",
    "                      \"photography\":[],\n",
    "                      \"sports\":[],\n",
    "                      \"technology\":[],\n",
    "                      \"travel\":[]}\n",
    "\n",
    "for class_name, content in class_content_dict.items():\n",
    "    for keyword in content:\n",
    "        flag = True\n",
    "        for word in keyword:\n",
    "            char = word.encode('unicode_escape').decode('utf8')\n",
    "            if not (char>='\\\\u4e00' and char<='\\\\u9fa5'):\n",
    "                flag = False\n",
    "                break\n",
    "        if flag:\n",
    "            class_content_dict_2[class_name].append(keyword)\n",
    "\n",
    "\n",
    "json.dump(class_content_dict_2,open('class_content_dict_2.json','w'))"
   ]
  },
  {
   "cell_type": "markdown",
   "metadata": {},
   "source": [
    "- Calculate TF/IDF"
   ]
  },
  {
   "cell_type": "code",
   "execution_count": 3,
   "metadata": {
    "collapsed": false
   },
   "outputs": [
    {
     "name": "stdout",
     "output_type": "stream",
     "text": [
      "charity\n",
      "travel\n",
      "business\n",
      "health\n",
      "technology\n",
      "arts\n",
      "education\n",
      "fashion\n",
      "photography\n",
      "sports\n",
      "food\n",
      "entertainment\n",
      "other\n"
     ]
    }
   ],
   "source": [
    "class_content_dict = json.load(open('class_content_dict.json','r'))\n",
    "\n",
    "keyword_count_dict = {}\n",
    "keyword_freq_dict = {}\n",
    "for class_name, keywords in class_content_dict.items():  \n",
    "    print(class_name)\n",
    "    keyword_count_dict[class_name] = {}\n",
    "    for keyword in keywords:\n",
    "        if keyword in keyword_count_dict[class_name]:\n",
    "            keyword_count_dict[class_name][keyword] += 1 \n",
    "        else:\n",
    "            keyword_count_dict[class_name][keyword] = 1 \n",
    "            if keyword in keyword_freq_dict:\n",
    "                keyword_freq_dict[keyword] += 1\n",
    "            else:\n",
    "                keyword_freq_dict[keyword] = 1\n",
    "\n",
    "keyword_tf_dict = {}\n",
    "keyword_idf_dict = {}\n",
    "for class_name, keywords in class_content_dict.items():  \n",
    "    length = len(keywords)\n",
    "    keyword_tf_dict[class_name] = {}\n",
    "    for keyword, count in keyword_count_dict[class_name].items():\n",
    "        keyword_tf_dict[class_name][keyword] = count/length\n",
    "for keyword,freq in keyword_freq_dict.items():\n",
    "    keyword_idf_dict[keyword] = math.log10(13/freq)\n",
    "\n",
    "keyword_tfidf_dict = {}\n",
    "for class_name, keyword_tf in keyword_tf_dict.items():\n",
    "    keyword_tfidf_dict[class_name] = {}\n",
    "    for keyword, tf in keyword_tf.items():\n",
    "        keyword_tfidf_dict[class_name][keyword] = keyword_tf_dict[class_name][keyword]*keyword_idf_dict[keyword]\n",
    "\n",
    "json.dump(keyword_tfidf_dict,open('keyword_tfidf_dict.json','w'))"
   ]
  },
  {
   "cell_type": "code",
   "execution_count": null,
   "metadata": {
    "collapsed": true
   },
   "outputs": [],
   "source": []
  }
 ],
 "metadata": {
  "kernelspec": {
   "display_name": "Python 3",
   "language": "python",
   "name": "python3"
  },
  "language_info": {
   "codemirror_mode": {
    "name": "ipython",
    "version": 3
   },
   "file_extension": ".py",
   "mimetype": "text/x-python",
   "name": "python",
   "nbconvert_exporter": "python",
   "pygments_lexer": "ipython3",
   "version": "3.5.1"
  }
 },
 "nbformat": 4,
 "nbformat_minor": 0
}
