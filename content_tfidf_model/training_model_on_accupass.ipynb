{
 "cells": [
  {
   "cell_type": "markdown",
   "metadata": {},
   "source": [
    "- Import Packages"
   ]
  },
  {
   "cell_type": "code",
   "execution_count": 1,
   "metadata": {
    "collapsed": true
   },
   "outputs": [],
   "source": [
    "import os\n",
    "import random\n",
    "import math\n",
    "import json"
   ]
  },
  {
   "cell_type": "markdown",
   "metadata": {},
   "source": [
    "- Change csv file of facebook events to jason list"
   ]
  },
  {
   "cell_type": "code",
   "execution_count": 2,
   "metadata": {
    "collapsed": false
   },
   "outputs": [],
   "source": [
    "events = []\n",
    "for line in open('all_from_fb.txt','r').readlines():\n",
    "    event = {}        \n",
    "    split_line = line.strip('\\n').split(',')\n",
    "    event['id'] = split_line[0]\n",
    "    event['predicted_class'] = \"\"\n",
    "    event['content_cut'] = split_line[1:]\n",
    "    events.append(event)\n",
    "json.dump(events,open('fb_events.json','w'))"
   ]
  },
  {
   "cell_type": "markdown",
   "metadata": {},
   "source": [
    "- Merge training data to 13 classes"
   ]
  },
  {
   "cell_type": "code",
   "execution_count": 3,
   "metadata": {
    "collapsed": true
   },
   "outputs": [],
   "source": [
    "training_data = json.load(open('accupass_events.json','r'))\n",
    "testing_data = json.load(open('fb_events.json','r'))\n",
    "\n",
    "class_content_dict = {\"arts\":[],\n",
    "                      \"business\":[],\n",
    "                      \"charity\":[],\n",
    "                      \"education\":[],\n",
    "                      \"entertainment\":[],\n",
    "                      \"fashion\":[],\n",
    "                      \"food\":[],\n",
    "                      \"health\":[],\n",
    "                      \"other\":[],\n",
    "                      \"photography\":[],\n",
    "                      \"sports\":[],\n",
    "                      \"technology\":[],\n",
    "                      \"travel\":[]}\n",
    "for data in training_data:\n",
    "    class_content_dict[data['class']].extend(data['content_cut'])\n",
    "\n",
    "\n",
    "json.dump(class_content_dict,open('class_content_dict.json','w'))"
   ]
  },
  {
   "cell_type": "markdown",
   "metadata": {},
   "source": [
    "- Remove numbers and alphabets and calculate TF/IDF"
   ]
  },
  {
   "cell_type": "code",
   "execution_count": 4,
   "metadata": {
    "collapsed": false
   },
   "outputs": [
    {
     "name": "stdout",
     "output_type": "stream",
     "text": [
      "photography\n",
      "entertainment\n",
      "other\n",
      "technology\n",
      "education\n",
      "fashion\n",
      "health\n",
      "charity\n",
      "arts\n",
      "sports\n",
      "food\n",
      "business\n",
      "travel\n"
     ]
    }
   ],
   "source": [
    "class_content_dict = json.load(open('class_content_dict.json','r'))\n",
    "\n",
    "class_content_dict_2 = {\"arts\":[],\n",
    "                      \"business\":[],\n",
    "                      \"charity\":[],\n",
    "                      \"education\":[],\n",
    "                      \"entertainment\":[],\n",
    "                      \"fashion\":[],\n",
    "                      \"food\":[],\n",
    "                      \"health\":[],\n",
    "                      \"other\":[],\n",
    "                      \"photography\":[],\n",
    "                      \"sports\":[],\n",
    "                      \"technology\":[],\n",
    "                      \"travel\":[]}\n",
    "\n",
    "for class_name, content in class_content_dict.items():\n",
    "    for keyword in content:\n",
    "        flag = True\n",
    "        for word in keyword:\n",
    "            char = word.encode('unicode_escape').decode('utf8')\n",
    "            if not (char>='\\\\u4e00' and char<='\\\\u9fa5'):\n",
    "                flag = False\n",
    "                break\n",
    "        if flag:\n",
    "            class_content_dict_2[class_name].append(keyword)\n",
    "\n",
    "\n",
    "json.dump(class_content_dict_2,open('class_content_dict_2.json','w'))\n",
    "\n",
    "\n",
    "\n",
    "class_content_dict = json.load(open('class_content_dict_2.json','r'))\n",
    "\n",
    "keyword_count_dict = {}\n",
    "keyword_freq_dict = {}\n",
    "for class_name, keywords in class_content_dict.items():  \n",
    "    print(class_name)\n",
    "    keyword_count_dict[class_name] = {}\n",
    "    for keyword in keywords:\n",
    "        if keyword in keyword_count_dict[class_name]:\n",
    "            keyword_count_dict[class_name][keyword] += 1 \n",
    "        else:\n",
    "            keyword_count_dict[class_name][keyword] = 1 \n",
    "            if keyword in keyword_freq_dict:\n",
    "                keyword_freq_dict[keyword] += 1\n",
    "            else:\n",
    "                keyword_freq_dict[keyword] = 1\n",
    "\n",
    "keyword_tf_dict = {}\n",
    "keyword_idf_dict = {}\n",
    "for class_name, keywords in class_content_dict.items():  \n",
    "    length = len(keywords)\n",
    "    keyword_tf_dict[class_name] = {}\n",
    "    for keyword, count in keyword_count_dict[class_name].items():\n",
    "        keyword_tf_dict[class_name][keyword] = count/length\n",
    "for keyword,freq in keyword_freq_dict.items():\n",
    "    keyword_idf_dict[keyword] = math.log10(13/freq)\n",
    "\n",
    "keyword_tfidf_dict = {}\n",
    "for class_name, keyword_tf in keyword_tf_dict.items():\n",
    "    keyword_tfidf_dict[class_name] = {}\n",
    "    for keyword, tf in keyword_tf.items():\n",
    "        keyword_tfidf_dict[class_name][keyword] = keyword_tf_dict[class_name][keyword]*keyword_idf_dict[keyword]\n",
    "\n",
    "json.dump(keyword_tfidf_dict,open('keyword_tfidf_dict.json','w'))"
   ]
  }
 ],
 "metadata": {
  "kernelspec": {
   "display_name": "Python 3",
   "language": "python",
   "name": "python3"
  },
  "language_info": {
   "codemirror_mode": {
    "name": "ipython",
    "version": 3
   },
   "file_extension": ".py",
   "mimetype": "text/x-python",
   "name": "python",
   "nbconvert_exporter": "python",
   "pygments_lexer": "ipython3",
   "version": "3.5.1"
  }
 },
 "nbformat": 4,
 "nbformat_minor": 0
}
