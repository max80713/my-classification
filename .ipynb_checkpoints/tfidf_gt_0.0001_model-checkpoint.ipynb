{
 "cells": [
  {
   "cell_type": "markdown",
   "metadata": {},
   "source": [
    "- Import Packages"
   ]
  },
  {
   "cell_type": "code",
   "execution_count": 4,
   "metadata": {
    "collapsed": true
   },
   "outputs": [],
   "source": [
    "import json\n",
    "import jieba\n",
    "import pandas"
   ]
  },
  {
   "cell_type": "markdown",
   "metadata": {
    "collapsed": true
   },
   "source": [
    "- Load Data"
   ]
  },
  {
   "cell_type": "code",
   "execution_count": 5,
   "metadata": {
    "collapsed": false
   },
   "outputs": [],
   "source": [
    "tf_dict = json.load(open('tf_dict.json','r'))\n",
    "idf_dict = json.load(open('idf_dict.json','r'))\n",
    "tfidf_dict = json.load(open('tfidf_dict.json','r'))\n",
    "train_data = json.load(open('train_data.json','r'))\n",
    "test_data = json.load(open('test_data.json','r'))"
   ]
  },
  {
   "cell_type": "markdown",
   "metadata": {},
   "source": [
    "- Predict Training Data"
   ]
  },
  {
   "cell_type": "code",
   "execution_count": 6,
   "metadata": {
    "collapsed": false
   },
   "outputs": [
    {
     "name": "stderr",
     "output_type": "stream",
     "text": [
      "Building prefix dict from the default dictionary ...\n",
      "DEBUG:jieba:Building prefix dict from the default dictionary ...\n",
      "Loading model from cache /var/folders/06/d31r6gfj2jq2frxfscrfl26w0000gn/T/jieba.cache\n",
      "DEBUG:jieba:Loading model from cache /var/folders/06/d31r6gfj2jq2frxfscrfl26w0000gn/T/jieba.cache\n",
      "Loading model cost 1.543 seconds.\n",
      "DEBUG:jieba:Loading model cost 1.543 seconds.\n",
      "Prefix dict has been built succesfully.\n",
      "DEBUG:jieba:Prefix dict has been built succesfully.\n"
     ]
    }
   ],
   "source": [
    "for data in train_data:\n",
    "    event_class_list = []\n",
    "    scores = []\n",
    "    data['description_cut'] = jieba.lcut(data['description'])    \n",
    "    for event_class, keyword_tfidf_dict in tfidf_dict.items():\n",
    "        score = 0\n",
    "        for keyword in data['description_cut']:\n",
    "            if keyword in tfidf_dict[event_class]:\n",
    "                if keyword_tfidf_dict[keyword] > 0.0001:\n",
    "                    score += keyword_tfidf_dict[keyword]\n",
    "        scores.append(score)\n",
    "        event_class_list.append(event_class)\n",
    "    \n",
    "    data['predicted_class'] = event_class_list[scores.index(max(scores))]"
   ]
  },
  {
   "cell_type": "markdown",
   "metadata": {},
   "source": [
    "- Predict Testing Data"
   ]
  },
  {
   "cell_type": "code",
   "execution_count": 7,
   "metadata": {
    "collapsed": false
   },
   "outputs": [
    {
     "ename": "SyntaxError",
     "evalue": "invalid syntax (<ipython-input-7-15da9cce7c23>, line 9)",
     "output_type": "error",
     "traceback": [
      "\u001b[0;36m  File \u001b[0;32m\"<ipython-input-7-15da9cce7c23>\"\u001b[0;36m, line \u001b[0;32m9\u001b[0m\n\u001b[0;31m    keyword_tfidf_dict[keyword] > 0.0001:\u001b[0m\n\u001b[0m                                        ^\u001b[0m\n\u001b[0;31mSyntaxError\u001b[0m\u001b[0;31m:\u001b[0m invalid syntax\n"
     ]
    }
   ],
   "source": [
    "for data in test_data:\n",
    "    event_class_list = []\n",
    "    scores = []\n",
    "    data['description_cut'] = jieba.lcut(data['description'])    \n",
    "    for event_class, keyword_tfidf_dict in tfidf_dict.items():\n",
    "        score = 0\n",
    "        for keyword in data['description_cut']:\n",
    "            if keyword in tfidf_dict[event_class]:\n",
    "                if keyword_tfidf_dict[keyword] > 0.0001:\n",
    "                    score += keyword_tfidf_dict[keyword]\n",
    "        scores.append(score)\n",
    "        event_class_list.append(event_class)\n",
    "    \n",
    "    data['predicted_class'] = event_class_list[scores.index(max(scores))]"
   ]
  },
  {
   "cell_type": "markdown",
   "metadata": {},
   "source": [
    "- Training Error"
   ]
  },
  {
   "cell_type": "code",
   "execution_count": null,
   "metadata": {
    "collapsed": false
   },
   "outputs": [],
   "source": [
    "count = 0\n",
    "for data in train_data:\n",
    "    if data['predicted_class'] != data['class']:\n",
    "        count += 1\n",
    "print(count/len(train_data))\n",
    "    "
   ]
  },
  {
   "cell_type": "markdown",
   "metadata": {},
   "source": [
    "- Testing Error"
   ]
  },
  {
   "cell_type": "code",
   "execution_count": null,
   "metadata": {
    "collapsed": false
   },
   "outputs": [],
   "source": [
    "count = 0\n",
    "for data in test_data:\n",
    "    if data['predicted_class'] != data['class']:\n",
    "        count += 1\n",
    "print(count/len(test_data))\n",
    "    "
   ]
  },
  {
   "cell_type": "markdown",
   "metadata": {},
   "source": [
    "- Training Fusion Matrix"
   ]
  },
  {
   "cell_type": "code",
   "execution_count": null,
   "metadata": {
    "collapsed": false
   },
   "outputs": [],
   "source": [
    "train_data_fusion_matrix = [[0 for i in range(13)] for i in range(13)]\n",
    "event_class_list = []\n",
    "for event_class in iter(tfidf_dict):\n",
    "    event_class_list.append(event_class)\n",
    "for data in train_data:\n",
    "    train_data_fusion_matrix[event_class_list.index(data['predicted_class'])][event_class_list.index(data['class'])] += 1\n",
    "train_data_fusion_matrix = pandas.DataFrame(train_data_fusion_matrix)\n",
    "train_data_fusion_matrix.columns = event_class_list #actual_class\n",
    "train_data_fusion_matrix.index = event_class_list #predicted_class\n",
    "train_data_fusion_matrix"
   ]
  },
  {
   "cell_type": "markdown",
   "metadata": {},
   "source": [
    "- Testing Fusion Matrix"
   ]
  },
  {
   "cell_type": "code",
   "execution_count": null,
   "metadata": {
    "collapsed": false,
    "scrolled": true
   },
   "outputs": [],
   "source": [
    "test_data_fusion_matrix = [[0 for i in range(13)] for i in range(13)]\n",
    "event_class_list = []\n",
    "for event_class in iter(tfidf_dict):\n",
    "    event_class_list.append(event_class)\n",
    "for data in test_data:\n",
    "    test_data_fusion_matrix[event_class_list.index(data['predicted_class'])][event_class_list.index(data['class'])] += 1\n",
    "test_data_fusion_matrix = pandas.DataFrame(test_data_fusion_matrix)\n",
    "test_data_fusion_matrix.columns = event_class_list #actual_class\n",
    "test_data_fusion_matrix.index = event_class_list #predicted_class\n",
    "test_data_fusion_matrix"
   ]
  },
  {
   "cell_type": "code",
   "execution_count": null,
   "metadata": {
    "collapsed": true
   },
   "outputs": [],
   "source": []
  }
 ],
 "metadata": {
  "kernelspec": {
   "display_name": "Python 3",
   "language": "python",
   "name": "python3"
  },
  "language_info": {
   "codemirror_mode": {
    "name": "ipython",
    "version": 3
   },
   "file_extension": ".py",
   "mimetype": "text/x-python",
   "name": "python",
   "nbconvert_exporter": "python",
   "pygments_lexer": "ipython3",
   "version": "3.5.1"
  }
 },
 "nbformat": 4,
 "nbformat_minor": 0
}
